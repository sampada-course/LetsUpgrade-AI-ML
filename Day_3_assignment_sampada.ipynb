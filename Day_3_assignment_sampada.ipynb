{
 "cells": [
  {
   "cell_type": "code",
   "execution_count": 13,
   "metadata": {},
   "outputs": [
    {
     "name": "stdout",
     "output_type": "stream",
     "text": [
      "enter the first complex number1+2j\n",
      "enter the second complex number3+5j\n",
      "(-2-3j)\n"
     ]
    }
   ],
   "source": [
    "# program to subtract two complex numbers\n",
    "a=complex(input(\"enter the first complex number\"))\n",
    "b=complex(input(\"enter the second complex number\"))\n",
    "print(a-b)"
   ]
  },
  {
   "cell_type": "code",
   "execution_count": 9,
   "metadata": {},
   "outputs": [
    {
     "name": "stdout",
     "output_type": "stream",
     "text": [
      "enter the number16\n",
      "2.0\n"
     ]
    }
   ],
   "source": [
    "#to ind fourth root\n",
    "n=int(input(\"enter the number\"))\n",
    "print(n**(1/4))"
   ]
  },
  {
   "cell_type": "code",
   "execution_count": null,
   "metadata": {},
   "outputs": [],
   "source": [
    "# swapnumbers using temp vriable\n",
    "a=input(\"enter 1st number \")\n",
    "b=input(\"enter 2nd number \")\n",
    "print(\"a=\",a,\"b=\",b)\n",
    "c=a\n",
    "a=b\n",
    "b=c\n",
    "print(\"a=\",a,\"b=\",b)\n"
   ]
  },
  {
   "cell_type": "code",
   "execution_count": 4,
   "metadata": {},
   "outputs": [
    {
     "name": "stdout",
     "output_type": "stream",
     "text": [
      "enter 1st number 10\n",
      "enter 2nd number 20\n",
      "a= 10 b= 20\n",
      "a= 20 b= 10\n"
     ]
    }
   ],
   "source": [
    "# swapnumbers without using temp vriable\n",
    "# swapnumbers using temp vriable\n",
    "a=int(input(\"enter 1st number \"))\n",
    "b=int(input(\"enter 2nd number \"))\n",
    "print(\"a=\",a,\"b=\",b)\n",
    "a=a+b\n",
    "b=a-b\n",
    "a=a-b\n",
    "print(\"a=\",a,\"b=\",b)\n",
    "\n"
   ]
  },
  {
   "cell_type": "code",
   "execution_count": 9,
   "metadata": {},
   "outputs": [
    {
     "name": "stdout",
     "output_type": "stream",
     "text": [
      "enter the temp in Fahrenheit 100\n",
      "temperature in kelvin = 311.27777777777777 kelvin\n",
      "temperature in Clesiu = 37.77777777777778 celsius\n"
     ]
    }
   ],
   "source": [
    "# temperature converter\n",
    "F=int(input(\"enter the temp in Fahrenheit \"))\n",
    "K=273.5 + ((F - 32.0) * (5.0/9.0))\n",
    "print(\"temperature in kelvin =\",K,\"kelvin\")\n",
    "C= (F-32) * 5/9\n",
    "print(\"temperature in Clesiu =\",C,\"celsius\")\n",
    "#"
   ]
  },
  {
   "cell_type": "code",
   "execution_count": 19,
   "metadata": {},
   "outputs": [
    {
     "name": "stdout",
     "output_type": "stream",
     "text": [
      "<class 'int'>\n",
      "<class 'float'>\n",
      "<class 'complex'>\n",
      "<class 'str'>\n",
      "<class 'bool'>\n"
     ]
    }
   ],
   "source": [
    "#to show python data types\n",
    "a=1\n",
    "print(type(a))\n",
    "b=1.1\n",
    "print(type(b))\n",
    "c=1+2j\n",
    "print(type(c))\n",
    "d=\"abc\"\n",
    "print(type(d))\n",
    "e=True\n",
    "print(type(e))"
   ]
  },
  {
   "cell_type": "code",
   "execution_count": null,
   "metadata": {},
   "outputs": [],
   "source": []
  }
 ],
 "metadata": {
  "kernelspec": {
   "display_name": "Python 3",
   "language": "python",
   "name": "python3"
  },
  "language_info": {
   "codemirror_mode": {
    "name": "ipython",
    "version": 3
   },
   "file_extension": ".py",
   "mimetype": "text/x-python",
   "name": "python",
   "nbconvert_exporter": "python",
   "pygments_lexer": "ipython3",
   "version": "3.7.3"
  }
 },
 "nbformat": 4,
 "nbformat_minor": 2
}
